{
 "cells": [
  {
   "cell_type": "code",
   "execution_count": 1,
   "metadata": {},
   "outputs": [
    {
     "name": "stdout",
     "output_type": "stream",
     "text": [
      "cat  파일 길이 :  620\n",
      "cat  :  /Users/jiwon/Documents/GitHub/Android_Term_Project_2020/OpenCV/training/female//cat/823.jpg\n",
      "dog  파일 길이 :  608\n",
      "dog  :  /Users/jiwon/Documents/GitHub/Android_Term_Project_2020/OpenCV/training/female//dog/63.jpg\n",
      "ok 1228\n"
     ]
    }
   ],
   "source": [
    "from PIL import Image\n",
    "import os, glob, numpy as np\n",
    "from sklearn.model_selection import train_test_split\n",
    "\n",
    "caltech_dir = \"/Users/jiwon/Documents/GitHub/Android_Term_Project_2020/OpenCV/training/female/\"\n",
    "categories = [\"cat\",\"dog\"]\n",
    "nb_classes = len(categories)\n",
    "\n",
    "image_w = 64\n",
    "image_h = 64\n",
    "\n",
    "pixels = image_h * image_w * 3\n",
    "\n",
    "X = []\n",
    "y = []\n",
    "\n",
    "for idx, cat in enumerate(categories):\n",
    "    \n",
    "    #one-hot 돌리기.\n",
    "    label = [0 for i in range(nb_classes)]\n",
    "    label[idx] = 1\n",
    "\n",
    "    image_dir = caltech_dir + \"/\" + cat\n",
    "    files = glob.glob(image_dir+\"/*.jpg\")\n",
    "    print(cat, \" 파일 길이 : \", len(files))\n",
    "    for i, f in enumerate(files):\n",
    "        img = Image.open(f)\n",
    "        img = img.convert(\"RGB\")\n",
    "        img = img.resize((image_w, image_h))\n",
    "        data = np.asarray(img)\n",
    "\n",
    "        X.append(data)\n",
    "        y.append(label)\n",
    "\n",
    "        if i % 700 == 0:\n",
    "            print(cat, \" : \", f)\n",
    "X = np.array(X)\n",
    "y = np.array(y)\n",
    "#1 0 0 0 이면 airplanes\n",
    "#0 1 0 0 이면 buddha 이런식\n",
    "\n",
    "\n",
    "X_train, X_test, y_train, y_test = train_test_split(X, y)\n",
    "xy = (X_train, X_test, y_train, y_test)\n",
    "np.save(\"/Users/jiwon/Desktop/numpy_data/multi_image_data.npy\", xy)\n",
    "\n",
    "print(\"ok\", len(y))"
   ]
  },
  {
   "cell_type": "code",
   "execution_count": 2,
   "metadata": {},
   "outputs": [
    {
     "name": "stderr",
     "output_type": "stream",
     "text": [
      "Using TensorFlow backend.\n",
      "/Users/jiwon/opt/anaconda3/lib/python3.7/site-packages/tensorflow/python/framework/dtypes.py:516: FutureWarning: Passing (type, 1) or '1type' as a synonym of type is deprecated; in a future version of numpy, it will be understood as (type, (1,)) / '(1,)type'.\n",
      "  _np_qint8 = np.dtype([(\"qint8\", np.int8, 1)])\n",
      "/Users/jiwon/opt/anaconda3/lib/python3.7/site-packages/tensorflow/python/framework/dtypes.py:517: FutureWarning: Passing (type, 1) or '1type' as a synonym of type is deprecated; in a future version of numpy, it will be understood as (type, (1,)) / '(1,)type'.\n",
      "  _np_quint8 = np.dtype([(\"quint8\", np.uint8, 1)])\n",
      "/Users/jiwon/opt/anaconda3/lib/python3.7/site-packages/tensorflow/python/framework/dtypes.py:518: FutureWarning: Passing (type, 1) or '1type' as a synonym of type is deprecated; in a future version of numpy, it will be understood as (type, (1,)) / '(1,)type'.\n",
      "  _np_qint16 = np.dtype([(\"qint16\", np.int16, 1)])\n",
      "/Users/jiwon/opt/anaconda3/lib/python3.7/site-packages/tensorflow/python/framework/dtypes.py:519: FutureWarning: Passing (type, 1) or '1type' as a synonym of type is deprecated; in a future version of numpy, it will be understood as (type, (1,)) / '(1,)type'.\n",
      "  _np_quint16 = np.dtype([(\"quint16\", np.uint16, 1)])\n",
      "/Users/jiwon/opt/anaconda3/lib/python3.7/site-packages/tensorflow/python/framework/dtypes.py:520: FutureWarning: Passing (type, 1) or '1type' as a synonym of type is deprecated; in a future version of numpy, it will be understood as (type, (1,)) / '(1,)type'.\n",
      "  _np_qint32 = np.dtype([(\"qint32\", np.int32, 1)])\n",
      "/Users/jiwon/opt/anaconda3/lib/python3.7/site-packages/tensorflow/python/framework/dtypes.py:525: FutureWarning: Passing (type, 1) or '1type' as a synonym of type is deprecated; in a future version of numpy, it will be understood as (type, (1,)) / '(1,)type'.\n",
      "  np_resource = np.dtype([(\"resource\", np.ubyte, 1)])\n",
      "/Users/jiwon/opt/anaconda3/lib/python3.7/site-packages/tensorboard/compat/tensorflow_stub/dtypes.py:541: FutureWarning: Passing (type, 1) or '1type' as a synonym of type is deprecated; in a future version of numpy, it will be understood as (type, (1,)) / '(1,)type'.\n",
      "  _np_qint8 = np.dtype([(\"qint8\", np.int8, 1)])\n",
      "/Users/jiwon/opt/anaconda3/lib/python3.7/site-packages/tensorboard/compat/tensorflow_stub/dtypes.py:542: FutureWarning: Passing (type, 1) or '1type' as a synonym of type is deprecated; in a future version of numpy, it will be understood as (type, (1,)) / '(1,)type'.\n",
      "  _np_quint8 = np.dtype([(\"quint8\", np.uint8, 1)])\n",
      "/Users/jiwon/opt/anaconda3/lib/python3.7/site-packages/tensorboard/compat/tensorflow_stub/dtypes.py:543: FutureWarning: Passing (type, 1) or '1type' as a synonym of type is deprecated; in a future version of numpy, it will be understood as (type, (1,)) / '(1,)type'.\n",
      "  _np_qint16 = np.dtype([(\"qint16\", np.int16, 1)])\n",
      "/Users/jiwon/opt/anaconda3/lib/python3.7/site-packages/tensorboard/compat/tensorflow_stub/dtypes.py:544: FutureWarning: Passing (type, 1) or '1type' as a synonym of type is deprecated; in a future version of numpy, it will be understood as (type, (1,)) / '(1,)type'.\n",
      "  _np_quint16 = np.dtype([(\"quint16\", np.uint16, 1)])\n",
      "/Users/jiwon/opt/anaconda3/lib/python3.7/site-packages/tensorboard/compat/tensorflow_stub/dtypes.py:545: FutureWarning: Passing (type, 1) or '1type' as a synonym of type is deprecated; in a future version of numpy, it will be understood as (type, (1,)) / '(1,)type'.\n",
      "  _np_qint32 = np.dtype([(\"qint32\", np.int32, 1)])\n",
      "/Users/jiwon/opt/anaconda3/lib/python3.7/site-packages/tensorboard/compat/tensorflow_stub/dtypes.py:550: FutureWarning: Passing (type, 1) or '1type' as a synonym of type is deprecated; in a future version of numpy, it will be understood as (type, (1,)) / '(1,)type'.\n",
      "  np_resource = np.dtype([(\"resource\", np.ubyte, 1)])\n"
     ]
    },
    {
     "name": "stdout",
     "output_type": "stream",
     "text": [
      "(921, 64, 64, 3)\n",
      "921\n"
     ]
    }
   ],
   "source": [
    "import os, glob, numpy as np\n",
    "from keras.models import Sequential\n",
    "from keras.layers import Conv2D, MaxPooling2D, Dense, Flatten, Dropout\n",
    "from keras.callbacks import EarlyStopping, ModelCheckpoint\n",
    "import matplotlib.pyplot as plt\n",
    "import keras.backend.tensorflow_backend as K\n",
    "\n",
    "import tensorflow as tf\n",
    "config = tf.ConfigProto()\n",
    "config.gpu_options.allow_growth = True\n",
    "session = tf.Session(config=config)\n",
    "\n",
    "X_train, X_test, y_train, y_test = np.load('/Users/jiwon/Desktop/numpy_data/multi_image_data.npy',allow_pickle=True)\n",
    "print(X_train.shape)\n",
    "print(X_train.shape[0])"
   ]
  },
  {
   "cell_type": "code",
   "execution_count": 3,
   "metadata": {},
   "outputs": [],
   "source": [
    "categories = [\"cat\",\"dog\"]\n",
    "nb_classes = len(categories)\n",
    "\n",
    "#일반화\n",
    "X_train = X_train.astype(float) / 255\n",
    "X_test = X_test.astype(float) / 255"
   ]
  },
  {
   "cell_type": "code",
   "execution_count": 4,
   "metadata": {},
   "outputs": [
    {
     "name": "stdout",
     "output_type": "stream",
     "text": [
      "WARNING:tensorflow:From /Users/jiwon/opt/anaconda3/lib/python3.7/site-packages/keras/backend/tensorflow_backend.py:4070: The name tf.nn.max_pool is deprecated. Please use tf.nn.max_pool2d instead.\n",
      "\n"
     ]
    }
   ],
   "source": [
    "with K.tf_ops.device('/device:GPU:0'):\n",
    "    model = Sequential()\n",
    "    model.add(Conv2D(32, (3,3), padding=\"same\", input_shape=X_train.shape[1:], activation='relu'))\n",
    "    model.add(MaxPooling2D(pool_size=(2,2)))\n",
    "    model.add(Dropout(0.25))\n",
    "    \n",
    "    model.add(Conv2D(64, (3,3), padding=\"same\", activation='relu'))\n",
    "    model.add(MaxPooling2D(pool_size=(2,2)))\n",
    "    model.add(Dropout(0.25))\n",
    "    \n",
    "    model.add(Flatten())\n",
    "    model.add(Dense(256, activation='relu'))\n",
    "    model.add(Dropout(0.5))\n",
    "    model.add(Dense(nb_classes, activation='softmax'))\n",
    "    model.compile(loss='categorical_crossentropy', optimizer='adam', metrics=['accuracy'])\n",
    "    model_dir = './model'\n",
    "    \n",
    "    if not os.path.exists(model_dir):\n",
    "        os.mkdir(model_dir)\n",
    "    \n",
    "    model_path = model_dir + '/multi_img_classification.model'\n",
    "    checkpoint = ModelCheckpoint(filepath=model_path , monitor='val_loss', verbose=1, save_best_only=True)\n",
    "    early_stopping = EarlyStopping(monitor='val_loss', patience=6)"
   ]
  },
  {
   "cell_type": "code",
   "execution_count": 5,
   "metadata": {},
   "outputs": [
    {
     "name": "stdout",
     "output_type": "stream",
     "text": [
      "Model: \"sequential_1\"\n",
      "_________________________________________________________________\n",
      "Layer (type)                 Output Shape              Param #   \n",
      "=================================================================\n",
      "conv2d_1 (Conv2D)            (None, 64, 64, 32)        896       \n",
      "_________________________________________________________________\n",
      "max_pooling2d_1 (MaxPooling2 (None, 32, 32, 32)        0         \n",
      "_________________________________________________________________\n",
      "dropout_1 (Dropout)          (None, 32, 32, 32)        0         \n",
      "_________________________________________________________________\n",
      "conv2d_2 (Conv2D)            (None, 32, 32, 64)        18496     \n",
      "_________________________________________________________________\n",
      "max_pooling2d_2 (MaxPooling2 (None, 16, 16, 64)        0         \n",
      "_________________________________________________________________\n",
      "dropout_2 (Dropout)          (None, 16, 16, 64)        0         \n",
      "_________________________________________________________________\n",
      "flatten_1 (Flatten)          (None, 16384)             0         \n",
      "_________________________________________________________________\n",
      "dense_1 (Dense)              (None, 256)               4194560   \n",
      "_________________________________________________________________\n",
      "dropout_3 (Dropout)          (None, 256)               0         \n",
      "_________________________________________________________________\n",
      "dense_2 (Dense)              (None, 2)                 514       \n",
      "=================================================================\n",
      "Total params: 4,214,466\n",
      "Trainable params: 4,214,466\n",
      "Non-trainable params: 0\n",
      "_________________________________________________________________\n"
     ]
    }
   ],
   "source": [
    "model.summary()"
   ]
  },
  {
   "cell_type": "code",
   "execution_count": 6,
   "metadata": {},
   "outputs": [
    {
     "name": "stdout",
     "output_type": "stream",
     "text": [
      "WARNING:tensorflow:From /Users/jiwon/opt/anaconda3/lib/python3.7/site-packages/keras/backend/tensorflow_backend.py:422: The name tf.global_variables is deprecated. Please use tf.compat.v1.global_variables instead.\n",
      "\n",
      "Train on 921 samples, validate on 307 samples\n",
      "Epoch 1/50\n",
      "921/921 [==============================] - 5s 5ms/step - loss: 0.8191 - accuracy: 0.5190 - val_loss: 0.6939 - val_accuracy: 0.4560\n",
      "\n",
      "Epoch 00001: val_loss improved from inf to 0.69388, saving model to ./model/multi_img_classification.model\n",
      "Epoch 2/50\n",
      "921/921 [==============================] - 4s 4ms/step - loss: 0.6927 - accuracy: 0.5223 - val_loss: 0.6917 - val_accuracy: 0.5081\n",
      "\n",
      "Epoch 00002: val_loss improved from 0.69388 to 0.69173, saving model to ./model/multi_img_classification.model\n",
      "Epoch 3/50\n",
      "921/921 [==============================] - 4s 4ms/step - loss: 0.6849 - accuracy: 0.5635 - val_loss: 0.6875 - val_accuracy: 0.5537\n",
      "\n",
      "Epoch 00003: val_loss improved from 0.69173 to 0.68749, saving model to ./model/multi_img_classification.model\n",
      "Epoch 4/50\n",
      "921/921 [==============================] - 4s 4ms/step - loss: 0.6734 - accuracy: 0.5765 - val_loss: 0.6824 - val_accuracy: 0.5440\n",
      "\n",
      "Epoch 00004: val_loss improved from 0.68749 to 0.68238, saving model to ./model/multi_img_classification.model\n",
      "Epoch 5/50\n",
      "921/921 [==============================] - 4s 4ms/step - loss: 0.6474 - accuracy: 0.6374 - val_loss: 0.6553 - val_accuracy: 0.5993\n",
      "\n",
      "Epoch 00005: val_loss improved from 0.68238 to 0.65530, saving model to ./model/multi_img_classification.model\n",
      "Epoch 6/50\n",
      "921/921 [==============================] - 4s 4ms/step - loss: 0.6248 - accuracy: 0.6536 - val_loss: 0.6624 - val_accuracy: 0.5896\n",
      "\n",
      "Epoch 00006: val_loss did not improve from 0.65530\n",
      "Epoch 7/50\n",
      "921/921 [==============================] - 4s 4ms/step - loss: 0.6098 - accuracy: 0.6797 - val_loss: 0.6447 - val_accuracy: 0.6091\n",
      "\n",
      "Epoch 00007: val_loss improved from 0.65530 to 0.64467, saving model to ./model/multi_img_classification.model\n",
      "Epoch 8/50\n",
      "921/921 [==============================] - 4s 5ms/step - loss: 0.5730 - accuracy: 0.7025 - val_loss: 0.6512 - val_accuracy: 0.5896\n",
      "\n",
      "Epoch 00008: val_loss did not improve from 0.64467\n",
      "Epoch 9/50\n",
      "921/921 [==============================] - 4s 4ms/step - loss: 0.5516 - accuracy: 0.7231 - val_loss: 0.6645 - val_accuracy: 0.5928\n",
      "\n",
      "Epoch 00009: val_loss did not improve from 0.64467\n",
      "Epoch 10/50\n",
      "921/921 [==============================] - 4s 4ms/step - loss: 0.5243 - accuracy: 0.7372 - val_loss: 0.6597 - val_accuracy: 0.6254\n",
      "\n",
      "Epoch 00010: val_loss did not improve from 0.64467\n",
      "Epoch 11/50\n",
      "921/921 [==============================] - 4s 4ms/step - loss: 0.5065 - accuracy: 0.7448 - val_loss: 0.6481 - val_accuracy: 0.6450\n",
      "\n",
      "Epoch 00011: val_loss did not improve from 0.64467\n",
      "Epoch 12/50\n",
      "921/921 [==============================] - 4s 4ms/step - loss: 0.4741 - accuracy: 0.7807 - val_loss: 0.6441 - val_accuracy: 0.6612\n",
      "\n",
      "Epoch 00012: val_loss improved from 0.64467 to 0.64410, saving model to ./model/multi_img_classification.model\n",
      "Epoch 13/50\n",
      "921/921 [==============================] - 4s 4ms/step - loss: 0.4314 - accuracy: 0.8013 - val_loss: 0.6612 - val_accuracy: 0.6775\n",
      "\n",
      "Epoch 00013: val_loss did not improve from 0.64410\n",
      "Epoch 14/50\n",
      "921/921 [==============================] - 4s 5ms/step - loss: 0.4020 - accuracy: 0.8111 - val_loss: 0.6735 - val_accuracy: 0.6710\n",
      "\n",
      "Epoch 00014: val_loss did not improve from 0.64410\n",
      "Epoch 15/50\n",
      "921/921 [==============================] - 4s 5ms/step - loss: 0.3620 - accuracy: 0.8393 - val_loss: 0.6537 - val_accuracy: 0.6808\n",
      "\n",
      "Epoch 00015: val_loss did not improve from 0.64410\n",
      "Epoch 16/50\n",
      "921/921 [==============================] - 4s 5ms/step - loss: 0.3364 - accuracy: 0.8599 - val_loss: 0.7238 - val_accuracy: 0.6645\n",
      "\n",
      "Epoch 00016: val_loss did not improve from 0.64410\n",
      "Epoch 17/50\n",
      "921/921 [==============================] - 4s 5ms/step - loss: 0.3461 - accuracy: 0.8436 - val_loss: 0.7908 - val_accuracy: 0.6287\n",
      "\n",
      "Epoch 00017: val_loss did not improve from 0.64410\n",
      "Epoch 18/50\n",
      "921/921 [==============================] - 4s 5ms/step - loss: 0.3244 - accuracy: 0.8632 - val_loss: 0.7179 - val_accuracy: 0.6580\n",
      "\n",
      "Epoch 00018: val_loss did not improve from 0.64410\n"
     ]
    }
   ],
   "source": [
    "#데이터셋이 적어서 validation을 그냥 test 데이터로 했습니다. \n",
    "#데이터셋이 충분하시면 이렇게 하시지 마시고 validation_split=0.2 이렇게 하셔서 테스트 셋으로 나누시길 권장합니다.\n",
    "history = model.fit(X_train, y_train, batch_size=32, epochs=50, validation_data=(X_test, y_test), callbacks=[checkpoint, early_stopping])"
   ]
  },
  {
   "cell_type": "code",
   "execution_count": 7,
   "metadata": {},
   "outputs": [
    {
     "name": "stdout",
     "output_type": "stream",
     "text": [
      "307/307 [==============================] - 0s 853us/step\n",
      "정확도 : 0.6580\n"
     ]
    }
   ],
   "source": [
    "print(\"정확도 : %.4f\" % (model.evaluate(X_test, y_test)[1]))"
   ]
  },
  {
   "cell_type": "code",
   "execution_count": 8,
   "metadata": {},
   "outputs": [
    {
     "data": {
      "image/png": "[encoded data removed]",
      "text/plain": [
       "<Figure size 432x288 with 1 Axes>"
      ]
     },
     "metadata": {
      "needs_background": "light"
     },
     "output_type": "display_data"
    }
   ],
   "source": [
    "y_vloss = history.history['val_loss']\n",
    "y_loss = history.history['loss']\n",
    "\n",
    "x_len = np.arange(len(y_loss))\n",
    "\n",
    "plt.plot(x_len, y_vloss, marker='.', c='red', label='val_set_loss')\n",
    "plt.plot(x_len, y_loss, marker='.', c='blue', label='train_set_oss')\n",
    "plt.legend()\n",
    "plt.xlabel('epochs')\n",
    "plt.ylabel('loss')\n",
    "plt.grid()\n",
    "plt.show()"
   ]
  },
  {
   "cell_type": "code",
   "execution_count": 18,
   "metadata": {},
   "outputs": [
    {
     "name": "stdout",
     "output_type": "stream",
     "text": [
      "[1.000 0.000]\n",
      "0\n",
      "해당 /Users/jiwon/Desktop/test/정채민.jpg이미지는 cat로 추정됩니다.\n",
      "[1.000 0.000]\n",
      "0\n",
      "해당 /Users/jiwon/Desktop/test/가인.jpg이미지는 cat로 추정됩니다.\n",
      "[0.000 1.000]\n",
      "1\n",
      "해당 /Users/jiwon/Desktop/test/김지아.jpg이미지는 dog으로 추정됩니다.\n",
      "[0.000 1.000]\n",
      "1\n",
      "해당 /Users/jiwon/Desktop/test/김지원.jpg이미지는 dog으로 추정됩니다.\n"
     ]
    }
   ],
   "source": [
    "from PIL import Image\n",
    "import os, glob, numpy as np\n",
    "from keras.models import load_model\n",
    "caltech_dir = \"/Users/jiwon/Desktop/test\"\n",
    "# caltech_dir = \"./multi_img_data/imgs_others_test\"\n",
    "image_w = 64\n",
    "image_h = 64\n",
    "\n",
    "pixels = image_h * image_w * 3\n",
    "\n",
    "X = []\n",
    "filenames = []\n",
    "files = glob.glob(caltech_dir+\"/*.*\")\n",
    "for i, f in enumerate(files):\n",
    "    img = Image.open(f)\n",
    "    img = img.convert(\"RGB\")\n",
    "    img = img.resize((image_w, image_h))\n",
    "    data = np.asarray(img)\n",
    "    filenames.append(f)\n",
    "    X.append(data)\n",
    "    \n",
    "X = np.array(X)\n",
    "\n",
    "\n",
    "# np.resize(img, (-1, <image shape>)\n",
    "# model = load_model('./model/multi_img_classification.model')\n",
    "model = load_model('/Users/jiwon/model/multi_img_classification.model')\n",
    "# X = X.reshape(X_train.shape[0], 720, 1280, 1)\n",
    "prediction = model.predict(X)\n",
    "np.set_printoptions(formatter={'float': lambda x: \"{0:0.3f}\".format(x)})\n",
    "cnt = 0\n",
    "\n",
    "#이 비교는 그냥 파일들이 있으면 해당 파일과 비교. 카테고리와 함께 비교해서 진행하는 것은 _4 파일.\n",
    "for i in prediction:\n",
    "    pre_ans = i.argmax()  # 예측 레이블\n",
    "    print(i)\n",
    "    print(pre_ans)\n",
    "    pre_ans_str = ''\n",
    "    if pre_ans == 0: pre_ans_str = \"cat\"\n",
    "    else: pre_ans_str = \"dog\"\n",
    "\n",
    "    if i[0] >= 0.8 : print(\"해당 \"+filenames[cnt].split(\"\\\\\")[0]+\"이미지는 \"+pre_ans_str+\"로 추정됩니다.\")\n",
    "    if i[1] >= 0.8: print(\"해당 \"+filenames[cnt].split(\"\\\\\")[0]+\"이미지는 \"+pre_ans_str+\"으로 추정됩니다.\")\n",
    "\n",
    "    cnt += 1\n",
    "    # print(i.argmax()) #얘가 레이블 [1. 0. 0.] 이런식으로 되어 있는 것을 숫자로 바꿔주는 것.\n",
    "    # 즉 얘랑, 나중에 카테고리 데이터 불러와서 카테고리랑 비교를 해서 같으면 맞는거고, 아니면 틀린거로 취급하면 된다.\n",
    "    # 이걸 한 것은 _4.py에."
   ]
  },
  {
   "cell_type": "code",
   "execution_count": null,
   "metadata": {},
   "outputs": [],
   "source": []
  }
 ],
 "metadata": {
  "kernelspec": {
   "display_name": "Python 3",
   "language": "python",
   "name": "python3"
  },
  "language_info": {
   "codemirror_mode": {
    "name": "ipython",
    "version": 3
   },
   "file_extension": ".py",
   "mimetype": "text/x-python",
   "name": "python",
   "nbconvert_exporter": "python",
   "pygments_lexer": "ipython3",
   "version": "3.7.6"
  }
 },
 "nbformat": 4,
 "nbformat_minor": 4
}
