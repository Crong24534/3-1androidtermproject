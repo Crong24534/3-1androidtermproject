{
 "cells": [
  {
   "cell_type": "code",
   "execution_count": null,
   "metadata": {},
   "outputs": [],
   "source": [
    "import cv2, sys, re\n",
    "import matplotlib.pyplot as plt\n",
    "\n",
    "face_cascade = cv2.CascadeClassifier('/usr/local/Cellar/opencv/4.3.0_1/share/opencv4/haarcascades/haarcascade_frontalface_default.xml')\n",
    "eye_cascade = cv2.CascadeClassifier('/usr/local/Cellar/opencv/4.3.0_1/share/opencv4/haarcascades/haarcascade_eye.xml')\n",
    " \n",
    "# 입력 파일 지정하기\n",
    "image_file = \"/Users/jiwon/Desktop/female/cat/\"+\"27).jpg\"\n",
    " \n",
    "# 출력 파일 이름\n",
    "output_file = re.sub(r'\\.jpg|jpeg|PNG$', '-output.jpg', image_file)\n",
    "\n",
    "img = cv2.imread(image_file)\n",
    "\n",
    "gray = cv2.cvtColor(img, cv2.COLOR_BGR2GRAY)\n",
    "faces = face_cascade.detectMultiScale(gray, 1.3,5)\n",
    "for (x,y,w,h) in faces:\n",
    "    cropped = img[y - int(h/15):y + h + int(h/15), x - int(w/15):x + w + int(w/15)]\n",
    "    gray_cropped = cv2.cvtColor(cropped, cv2.COLOR_BGR2GRAY)\n",
    "    # cv2.rectangle(img, (x,y), (x+w, y+h), (255,0,0),2)\n",
    "    # roi_gray = gray[y:y+h, x:x+w]\n",
    "    # roi_color = img[y:y+h, x:x+w]\n",
    "    # eyes = eye_cascade.detectMultiScale(roi_gray)\n",
    "    # for (ex, ey, ew, eh) in eyes:\n",
    "    #    cv2.rectangle(roi_color, (ex,ey), (ex+ew, ey+eh),(0,255,0),2)\n",
    "        \n",
    "cv2.imwrite(output_file, gray_cropped)      \n",
    "cv2.imshow('Image view', gray_cropped)\n",
    "cv2.waitKey(0)\n",
    "cv2.destroyAllWindows()"
   ]
  },
  {
   "cell_type": "code",
   "execution_count": null,
   "metadata": {},
   "outputs": [],
   "source": []
  }
 ],
 "metadata": {
  "kernelspec": {
   "display_name": "Python 3",
   "language": "python",
   "name": "python3"
  },
  "language_info": {
   "codemirror_mode": {
    "name": "ipython",
    "version": 3
   },
   "file_extension": ".py",
   "mimetype": "text/x-python",
   "name": "python",
   "nbconvert_exporter": "python",
   "pygments_lexer": "ipython3",
   "version": "3.7.6"
  }
 },
 "nbformat": 4,
 "nbformat_minor": 4
}
